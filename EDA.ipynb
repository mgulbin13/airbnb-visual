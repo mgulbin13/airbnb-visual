{
 "cells": [
  {
   "cell_type": "markdown",
   "id": "292c4301",
   "metadata": {},
   "source": [
    "# Airbnb Visualization Project"
   ]
  },
  {
   "cell_type": "markdown",
   "id": "95a3769b",
   "metadata": {},
   "source": [
    "In this notebook, I'll be exploring the Airbnb dataset to gain insights into how popular NYC Airbnbs are."
   ]
  },
  {
   "cell_type": "code",
   "execution_count": 1,
   "id": "978ecc5d",
   "metadata": {},
   "outputs": [],
   "source": [
    "import numpy as np\n",
    "import pandas as pd"
   ]
  },
  {
   "cell_type": "code",
   "execution_count": 2,
   "id": "0f4131a3",
   "metadata": {},
   "outputs": [
    {
     "name": "stderr",
     "output_type": "stream",
     "text": [
      "C:\\Users\\Matthew\\AppData\\Local\\Temp\\ipykernel_112496\\1125398166.py:1: DtypeWarning: Columns (25) have mixed types. Specify dtype option on import or set low_memory=False.\n",
      "  df = pd.read_csv('./data/Airbnb_Open_Data.csv')\n"
     ]
    },
    {
     "data": {
      "application/vnd.microsoft.datawrangler.viewer.v0+json": {
       "columns": [
        {
         "name": "index",
         "rawType": "int64",
         "type": "integer"
        },
        {
         "name": "id",
         "rawType": "int64",
         "type": "integer"
        },
        {
         "name": "NAME",
         "rawType": "object",
         "type": "unknown"
        },
        {
         "name": "host id",
         "rawType": "int64",
         "type": "integer"
        },
        {
         "name": "host_identity_verified",
         "rawType": "object",
         "type": "unknown"
        },
        {
         "name": "host name",
         "rawType": "object",
         "type": "string"
        },
        {
         "name": "neighbourhood group",
         "rawType": "object",
         "type": "string"
        },
        {
         "name": "neighbourhood",
         "rawType": "object",
         "type": "string"
        },
        {
         "name": "lat",
         "rawType": "float64",
         "type": "float"
        },
        {
         "name": "long",
         "rawType": "float64",
         "type": "float"
        },
        {
         "name": "country",
         "rawType": "object",
         "type": "string"
        },
        {
         "name": "country code",
         "rawType": "object",
         "type": "string"
        },
        {
         "name": "instant_bookable",
         "rawType": "object",
         "type": "unknown"
        },
        {
         "name": "cancellation_policy",
         "rawType": "object",
         "type": "string"
        },
        {
         "name": "room type",
         "rawType": "object",
         "type": "string"
        },
        {
         "name": "Construction year",
         "rawType": "float64",
         "type": "float"
        },
        {
         "name": "price",
         "rawType": "object",
         "type": "string"
        },
        {
         "name": "service fee",
         "rawType": "object",
         "type": "string"
        },
        {
         "name": "minimum nights",
         "rawType": "float64",
         "type": "float"
        },
        {
         "name": "number of reviews",
         "rawType": "float64",
         "type": "float"
        },
        {
         "name": "last review",
         "rawType": "object",
         "type": "unknown"
        },
        {
         "name": "reviews per month",
         "rawType": "float64",
         "type": "float"
        },
        {
         "name": "review rate number",
         "rawType": "float64",
         "type": "float"
        },
        {
         "name": "calculated host listings count",
         "rawType": "float64",
         "type": "float"
        },
        {
         "name": "availability 365",
         "rawType": "float64",
         "type": "float"
        },
        {
         "name": "house_rules",
         "rawType": "object",
         "type": "unknown"
        },
        {
         "name": "license",
         "rawType": "object",
         "type": "unknown"
        }
       ],
       "conversionMethod": "pd.DataFrame",
       "ref": "b2ef3362-4ade-46d1-8267-66cfcbdfb124",
       "rows": [
        [
         "0",
         "1001254",
         "Clean & quiet apt home by the park",
         "80014485718",
         "unconfirmed",
         "Madaline",
         "Brooklyn",
         "Kensington",
         "40.64749",
         "-73.97237",
         "United States",
         "US",
         "False",
         "strict",
         "Private room",
         "2020.0",
         "$966 ",
         "$193 ",
         "10.0",
         "9.0",
         "10/19/2021",
         "0.21",
         "4.0",
         "6.0",
         "286.0",
         "Clean up and treat the home the way you'd like your home to be treated.  No smoking.",
         null
        ],
        [
         "1",
         "1002102",
         "Skylit Midtown Castle",
         "52335172823",
         "verified",
         "Jenna",
         "Manhattan",
         "Midtown",
         "40.75362",
         "-73.98377",
         "United States",
         "US",
         "False",
         "moderate",
         "Entire home/apt",
         "2007.0",
         "$142 ",
         "$28 ",
         "30.0",
         "45.0",
         "5/21/2022",
         "0.38",
         "4.0",
         "2.0",
         "228.0",
         "Pet friendly but please confirm with me if the pet you are planning on bringing with you is OK. I have a cute and quiet mixed chihuahua. I could accept more guests (for an extra fee) but this also needs to be confirmed beforehand. Also friends traveling together could sleep in separate beds for an extra fee (the second bed is either a sofa bed or inflatable bed). Smoking is only allowed on the porch.",
         null
        ],
        [
         "2",
         "1002403",
         "THE VILLAGE OF HARLEM....NEW YORK !",
         "78829239556",
         null,
         "Elise",
         "Manhattan",
         "Harlem",
         "40.80902",
         "-73.9419",
         "United States",
         "US",
         "True",
         "flexible",
         "Private room",
         "2005.0",
         "$620 ",
         "$124 ",
         "3.0",
         "0.0",
         null,
         null,
         "5.0",
         "1.0",
         "352.0",
         "I encourage you to use my kitchen, cooking and laundry facilities. There is no additional charge to use the washer/dryer in the basement.  No smoking, inside or outside. Come home as late as you want.  If you come home stumbling drunk, it's OK the first time. If you do it again, and you wake up me or the neighbors downstairs, we will be annoyed.  (Just so you know . . . )",
         null
        ],
        [
         "3",
         "1002755",
         null,
         "85098326012",
         "unconfirmed",
         "Garry",
         "Brooklyn",
         "Clinton Hill",
         "40.68514",
         "-73.95976",
         "United States",
         "US",
         "True",
         "moderate",
         "Entire home/apt",
         "2005.0",
         "$368 ",
         "$74 ",
         "30.0",
         "270.0",
         "7/5/2019",
         "4.64",
         "4.0",
         "1.0",
         "322.0",
         null,
         null
        ],
        [
         "4",
         "1003689",
         "Entire Apt: Spacious Studio/Loft by central park",
         "92037596077",
         "verified",
         "Lyndon",
         "Manhattan",
         "East Harlem",
         "40.79851",
         "-73.94399",
         "United States",
         "US",
         "False",
         "moderate",
         "Entire home/apt",
         "2009.0",
         "$204 ",
         "$41 ",
         "10.0",
         "9.0",
         "11/19/2018",
         "0.1",
         "3.0",
         "1.0",
         "289.0",
         "Please no smoking in the house, porch or on the property (you can go to the nearby corner).  Reasonable quiet after 10:30 pm.  Please remove shoes in the house.",
         null
        ]
       ],
       "shape": {
        "columns": 26,
        "rows": 5
       }
      },
      "text/html": [
       "<div>\n",
       "<style scoped>\n",
       "    .dataframe tbody tr th:only-of-type {\n",
       "        vertical-align: middle;\n",
       "    }\n",
       "\n",
       "    .dataframe tbody tr th {\n",
       "        vertical-align: top;\n",
       "    }\n",
       "\n",
       "    .dataframe thead th {\n",
       "        text-align: right;\n",
       "    }\n",
       "</style>\n",
       "<table border=\"1\" class=\"dataframe\">\n",
       "  <thead>\n",
       "    <tr style=\"text-align: right;\">\n",
       "      <th></th>\n",
       "      <th>id</th>\n",
       "      <th>NAME</th>\n",
       "      <th>host id</th>\n",
       "      <th>host_identity_verified</th>\n",
       "      <th>host name</th>\n",
       "      <th>neighbourhood group</th>\n",
       "      <th>neighbourhood</th>\n",
       "      <th>lat</th>\n",
       "      <th>long</th>\n",
       "      <th>country</th>\n",
       "      <th>...</th>\n",
       "      <th>service fee</th>\n",
       "      <th>minimum nights</th>\n",
       "      <th>number of reviews</th>\n",
       "      <th>last review</th>\n",
       "      <th>reviews per month</th>\n",
       "      <th>review rate number</th>\n",
       "      <th>calculated host listings count</th>\n",
       "      <th>availability 365</th>\n",
       "      <th>house_rules</th>\n",
       "      <th>license</th>\n",
       "    </tr>\n",
       "  </thead>\n",
       "  <tbody>\n",
       "    <tr>\n",
       "      <th>0</th>\n",
       "      <td>1001254</td>\n",
       "      <td>Clean &amp; quiet apt home by the park</td>\n",
       "      <td>80014485718</td>\n",
       "      <td>unconfirmed</td>\n",
       "      <td>Madaline</td>\n",
       "      <td>Brooklyn</td>\n",
       "      <td>Kensington</td>\n",
       "      <td>40.64749</td>\n",
       "      <td>-73.97237</td>\n",
       "      <td>United States</td>\n",
       "      <td>...</td>\n",
       "      <td>$193</td>\n",
       "      <td>10.0</td>\n",
       "      <td>9.0</td>\n",
       "      <td>10/19/2021</td>\n",
       "      <td>0.21</td>\n",
       "      <td>4.0</td>\n",
       "      <td>6.0</td>\n",
       "      <td>286.0</td>\n",
       "      <td>Clean up and treat the home the way you'd like...</td>\n",
       "      <td>NaN</td>\n",
       "    </tr>\n",
       "    <tr>\n",
       "      <th>1</th>\n",
       "      <td>1002102</td>\n",
       "      <td>Skylit Midtown Castle</td>\n",
       "      <td>52335172823</td>\n",
       "      <td>verified</td>\n",
       "      <td>Jenna</td>\n",
       "      <td>Manhattan</td>\n",
       "      <td>Midtown</td>\n",
       "      <td>40.75362</td>\n",
       "      <td>-73.98377</td>\n",
       "      <td>United States</td>\n",
       "      <td>...</td>\n",
       "      <td>$28</td>\n",
       "      <td>30.0</td>\n",
       "      <td>45.0</td>\n",
       "      <td>5/21/2022</td>\n",
       "      <td>0.38</td>\n",
       "      <td>4.0</td>\n",
       "      <td>2.0</td>\n",
       "      <td>228.0</td>\n",
       "      <td>Pet friendly but please confirm with me if the...</td>\n",
       "      <td>NaN</td>\n",
       "    </tr>\n",
       "    <tr>\n",
       "      <th>2</th>\n",
       "      <td>1002403</td>\n",
       "      <td>THE VILLAGE OF HARLEM....NEW YORK !</td>\n",
       "      <td>78829239556</td>\n",
       "      <td>NaN</td>\n",
       "      <td>Elise</td>\n",
       "      <td>Manhattan</td>\n",
       "      <td>Harlem</td>\n",
       "      <td>40.80902</td>\n",
       "      <td>-73.94190</td>\n",
       "      <td>United States</td>\n",
       "      <td>...</td>\n",
       "      <td>$124</td>\n",
       "      <td>3.0</td>\n",
       "      <td>0.0</td>\n",
       "      <td>NaN</td>\n",
       "      <td>NaN</td>\n",
       "      <td>5.0</td>\n",
       "      <td>1.0</td>\n",
       "      <td>352.0</td>\n",
       "      <td>I encourage you to use my kitchen, cooking and...</td>\n",
       "      <td>NaN</td>\n",
       "    </tr>\n",
       "    <tr>\n",
       "      <th>3</th>\n",
       "      <td>1002755</td>\n",
       "      <td>NaN</td>\n",
       "      <td>85098326012</td>\n",
       "      <td>unconfirmed</td>\n",
       "      <td>Garry</td>\n",
       "      <td>Brooklyn</td>\n",
       "      <td>Clinton Hill</td>\n",
       "      <td>40.68514</td>\n",
       "      <td>-73.95976</td>\n",
       "      <td>United States</td>\n",
       "      <td>...</td>\n",
       "      <td>$74</td>\n",
       "      <td>30.0</td>\n",
       "      <td>270.0</td>\n",
       "      <td>7/5/2019</td>\n",
       "      <td>4.64</td>\n",
       "      <td>4.0</td>\n",
       "      <td>1.0</td>\n",
       "      <td>322.0</td>\n",
       "      <td>NaN</td>\n",
       "      <td>NaN</td>\n",
       "    </tr>\n",
       "    <tr>\n",
       "      <th>4</th>\n",
       "      <td>1003689</td>\n",
       "      <td>Entire Apt: Spacious Studio/Loft by central park</td>\n",
       "      <td>92037596077</td>\n",
       "      <td>verified</td>\n",
       "      <td>Lyndon</td>\n",
       "      <td>Manhattan</td>\n",
       "      <td>East Harlem</td>\n",
       "      <td>40.79851</td>\n",
       "      <td>-73.94399</td>\n",
       "      <td>United States</td>\n",
       "      <td>...</td>\n",
       "      <td>$41</td>\n",
       "      <td>10.0</td>\n",
       "      <td>9.0</td>\n",
       "      <td>11/19/2018</td>\n",
       "      <td>0.10</td>\n",
       "      <td>3.0</td>\n",
       "      <td>1.0</td>\n",
       "      <td>289.0</td>\n",
       "      <td>Please no smoking in the house, porch or on th...</td>\n",
       "      <td>NaN</td>\n",
       "    </tr>\n",
       "  </tbody>\n",
       "</table>\n",
       "<p>5 rows × 26 columns</p>\n",
       "</div>"
      ],
      "text/plain": [
       "        id                                              NAME      host id  \\\n",
       "0  1001254                Clean & quiet apt home by the park  80014485718   \n",
       "1  1002102                             Skylit Midtown Castle  52335172823   \n",
       "2  1002403               THE VILLAGE OF HARLEM....NEW YORK !  78829239556   \n",
       "3  1002755                                               NaN  85098326012   \n",
       "4  1003689  Entire Apt: Spacious Studio/Loft by central park  92037596077   \n",
       "\n",
       "  host_identity_verified host name neighbourhood group neighbourhood  \\\n",
       "0            unconfirmed  Madaline            Brooklyn    Kensington   \n",
       "1               verified     Jenna           Manhattan       Midtown   \n",
       "2                    NaN     Elise           Manhattan        Harlem   \n",
       "3            unconfirmed     Garry            Brooklyn  Clinton Hill   \n",
       "4               verified    Lyndon           Manhattan   East Harlem   \n",
       "\n",
       "        lat      long        country  ... service fee minimum nights  \\\n",
       "0  40.64749 -73.97237  United States  ...       $193            10.0   \n",
       "1  40.75362 -73.98377  United States  ...        $28            30.0   \n",
       "2  40.80902 -73.94190  United States  ...       $124             3.0   \n",
       "3  40.68514 -73.95976  United States  ...        $74            30.0   \n",
       "4  40.79851 -73.94399  United States  ...        $41            10.0   \n",
       "\n",
       "  number of reviews last review  reviews per month review rate number  \\\n",
       "0               9.0  10/19/2021               0.21                4.0   \n",
       "1              45.0   5/21/2022               0.38                4.0   \n",
       "2               0.0         NaN                NaN                5.0   \n",
       "3             270.0    7/5/2019               4.64                4.0   \n",
       "4               9.0  11/19/2018               0.10                3.0   \n",
       "\n",
       "  calculated host listings count  availability 365  \\\n",
       "0                            6.0             286.0   \n",
       "1                            2.0             228.0   \n",
       "2                            1.0             352.0   \n",
       "3                            1.0             322.0   \n",
       "4                            1.0             289.0   \n",
       "\n",
       "                                         house_rules license  \n",
       "0  Clean up and treat the home the way you'd like...     NaN  \n",
       "1  Pet friendly but please confirm with me if the...     NaN  \n",
       "2  I encourage you to use my kitchen, cooking and...     NaN  \n",
       "3                                                NaN     NaN  \n",
       "4  Please no smoking in the house, porch or on th...     NaN  \n",
       "\n",
       "[5 rows x 26 columns]"
      ]
     },
     "execution_count": 2,
     "metadata": {},
     "output_type": "execute_result"
    }
   ],
   "source": [
    "df = pd.read_csv('./data/Airbnb_Open_Data.csv')\n",
    "df.head()"
   ]
  },
  {
   "cell_type": "code",
   "execution_count": 6,
   "id": "0d25962f",
   "metadata": {},
   "outputs": [
    {
     "data": {
      "text/plain": [
       "Index(['id', 'NAME', 'host id', 'host_identity_verified', 'host name',\n",
       "       'neighbourhood group', 'neighbourhood', 'lat', 'long', 'country',\n",
       "       'country code', 'instant_bookable', 'cancellation_policy', 'room type',\n",
       "       'Construction year', 'price', 'service fee', 'minimum nights',\n",
       "       'number of reviews', 'last review', 'reviews per month',\n",
       "       'review rate number', 'calculated host listings count',\n",
       "       'availability 365', 'house_rules', 'license'],\n",
       "      dtype='object')"
      ]
     },
     "execution_count": 6,
     "metadata": {},
     "output_type": "execute_result"
    }
   ],
   "source": [
    "df.columns"
   ]
  },
  {
   "cell_type": "code",
   "execution_count": 15,
   "id": "b5f6176a",
   "metadata": {},
   "outputs": [
    {
     "name": "stdout",
     "output_type": "stream",
     "text": [
      "id                                102599\n",
      "NAME                              102349\n",
      "host id                           102599\n",
      "host_identity_verified            102310\n",
      "host name                         102193\n",
      "neighbourhood group               102570\n",
      "neighbourhood                     102583\n",
      "lat                               102591\n",
      "long                              102591\n",
      "country                           102067\n",
      "country code                      102468\n",
      "instant_bookable                  102494\n",
      "cancellation_policy               102523\n",
      "room type                         102599\n",
      "Construction year                 102385\n",
      "price                             102352\n",
      "service fee                       102326\n",
      "minimum nights                    102190\n",
      "number of reviews                 102416\n",
      "last review                        86706\n",
      "reviews per month                  86720\n",
      "review rate number                102273\n",
      "calculated host listings count    102280\n",
      "availability 365                  102151\n",
      "house_rules                        50468\n",
      "license                                2\n",
      "dtype: int64\n"
     ]
    }
   ],
   "source": [
    "print(df.count())"
   ]
  },
  {
   "cell_type": "code",
   "execution_count": 16,
   "id": "b7290972",
   "metadata": {},
   "outputs": [
    {
     "name": "stdout",
     "output_type": "stream",
     "text": [
      "id                                     0\n",
      "NAME                                 250\n",
      "host id                                0\n",
      "host_identity_verified               289\n",
      "host name                            406\n",
      "neighbourhood group                   29\n",
      "neighbourhood                         16\n",
      "lat                                    8\n",
      "long                                   8\n",
      "country                              532\n",
      "country code                         131\n",
      "instant_bookable                     105\n",
      "cancellation_policy                   76\n",
      "room type                              0\n",
      "Construction year                    214\n",
      "price                                247\n",
      "service fee                          273\n",
      "minimum nights                       409\n",
      "number of reviews                    183\n",
      "last review                        15893\n",
      "reviews per month                  15879\n",
      "review rate number                   326\n",
      "calculated host listings count       319\n",
      "availability 365                     448\n",
      "house_rules                        52131\n",
      "license                           102597\n",
      "dtype: int64\n"
     ]
    }
   ],
   "source": [
    "print(df.isna().sum())"
   ]
  },
  {
   "cell_type": "code",
   "execution_count": 17,
   "id": "3ade2647",
   "metadata": {},
   "outputs": [
    {
     "data": {
      "text/plain": [
       "Index(['id', 'NAME', 'host id', 'host_identity_verified', 'host name',\n",
       "       'neighbourhood group', 'neighbourhood', 'lat', 'long', 'country',\n",
       "       'country code', 'instant_bookable', 'cancellation_policy', 'room type',\n",
       "       'Construction year', 'price', 'service fee', 'minimum nights',\n",
       "       'number of reviews', 'last review', 'reviews per month',\n",
       "       'review rate number', 'calculated host listings count',\n",
       "       'availability 365', 'house_rules'],\n",
       "      dtype='object')"
      ]
     },
     "execution_count": 17,
     "metadata": {},
     "output_type": "execute_result"
    }
   ],
   "source": [
    "df = df.drop(columns=['license'])\n",
    "df.columns"
   ]
  },
  {
   "cell_type": "code",
   "execution_count": 18,
   "id": "b3f4a57e",
   "metadata": {},
   "outputs": [
    {
     "data": {
      "text/plain": [
       "neighbourhood group\n",
       "Manhattan        43792\n",
       "Brooklyn         41842\n",
       "Queens           13267\n",
       "Bronx             2712\n",
       "Staten Island      955\n",
       "brookln              1\n",
       "manhatan             1\n",
       "Name: count, dtype: int64"
      ]
     },
     "execution_count": 18,
     "metadata": {},
     "output_type": "execute_result"
    }
   ],
   "source": [
    "df['neighbourhood group'].value_counts()"
   ]
  },
  {
   "cell_type": "code",
   "execution_count": 19,
   "id": "3a04f4d2",
   "metadata": {},
   "outputs": [
    {
     "data": {
      "text/plain": [
       "neighbourhood group\n",
       "Manhattan        43793\n",
       "Brooklyn         41843\n",
       "Queens           13267\n",
       "Bronx             2712\n",
       "Staten Island      955\n",
       "Name: count, dtype: int64"
      ]
     },
     "execution_count": 19,
     "metadata": {},
     "output_type": "execute_result"
    }
   ],
   "source": [
    "df['neighbourhood group'] = df['neighbourhood group'].str.replace(\"brookln\", \"Brooklyn\")\n",
    "df['neighbourhood group'] = df['neighbourhood group'].str.replace(\"manhatan\", \"Manhattan\")\n",
    "df['neighbourhood group'].value_counts()"
   ]
  },
  {
   "cell_type": "code",
   "execution_count": 20,
   "id": "98c295d7",
   "metadata": {},
   "outputs": [],
   "source": [
    "df = df.dropna(axis='index', subset=['neighbourhood group', 'neighbourhood'])"
   ]
  },
  {
   "cell_type": "code",
   "execution_count": 21,
   "id": "ca84bff9",
   "metadata": {},
   "outputs": [
    {
     "name": "stdout",
     "output_type": "stream",
     "text": [
      "id                                    0\n",
      "NAME                                248\n",
      "host id                               0\n",
      "host_identity_verified              281\n",
      "host name                           405\n",
      "neighbourhood group                   0\n",
      "neighbourhood                         0\n",
      "lat                                   8\n",
      "long                                  8\n",
      "country                             529\n",
      "country code                        128\n",
      "instant_bookable                    102\n",
      "cancellation_policy                  73\n",
      "room type                             0\n",
      "Construction year                   209\n",
      "price                               245\n",
      "service fee                         273\n",
      "minimum nights                      407\n",
      "number of reviews                   183\n",
      "last review                       15889\n",
      "reviews per month                 15877\n",
      "review rate number                  324\n",
      "calculated host listings count      319\n",
      "availability 365                    436\n",
      "house_rules                       52118\n",
      "dtype: int64\n"
     ]
    }
   ],
   "source": [
    "print(df.isna().sum())"
   ]
  },
  {
   "cell_type": "code",
   "execution_count": 24,
   "id": "493094fb",
   "metadata": {},
   "outputs": [
    {
     "data": {
      "text/plain": [
       "neighbourhood\n",
       "Harlem                 5463\n",
       "Hell's Kitchen         3965\n",
       "Upper West Side        3859\n",
       "Upper East Side        3679\n",
       "East Village           3489\n",
       "Midtown                3390\n",
       "East Harlem            2339\n",
       "Chelsea                2284\n",
       "Lower East Side        1948\n",
       "Washington Heights     1778\n",
       "Financial District     1490\n",
       "West Village           1484\n",
       "Murray Hill             960\n",
       "Kips Bay                920\n",
       "Chinatown               789\n",
       "Greenwich Village       744\n",
       "Gramercy                693\n",
       "SoHo                    685\n",
       "Morningside Heights     635\n",
       "Theater District        565\n",
       "Inwood                  548\n",
       "Nolita                  530\n",
       "Tribeca                 345\n",
       "Little Italy            278\n",
       "Roosevelt Island        159\n",
       "Flatiron District       158\n",
       "NoHo                    140\n",
       "Two Bridges             132\n",
       "Battery Park City       118\n",
       "Civic Center            107\n",
       "Stuyvesant Town          83\n",
       "Marble Hill              28\n",
       "Name: count, dtype: int64"
      ]
     },
     "execution_count": 24,
     "metadata": {},
     "output_type": "execute_result"
    }
   ],
   "source": [
    "df[df['neighbourhood group'] == \"Manhattan\"]['neighbourhood'].value_counts()"
   ]
  },
  {
   "cell_type": "code",
   "execution_count": 25,
   "id": "7bb8477a",
   "metadata": {},
   "outputs": [
    {
     "data": {
      "text/plain": [
       "country\n",
       "United States    102025\n",
       "Name: count, dtype: int64"
      ]
     },
     "execution_count": 25,
     "metadata": {},
     "output_type": "execute_result"
    }
   ],
   "source": [
    "df['country'].value_counts()"
   ]
  },
  {
   "cell_type": "code",
   "execution_count": 26,
   "id": "afb6878c",
   "metadata": {},
   "outputs": [
    {
     "data": {
      "text/plain": [
       "country code\n",
       "US    102426\n",
       "Name: count, dtype: int64"
      ]
     },
     "execution_count": 26,
     "metadata": {},
     "output_type": "execute_result"
    }
   ],
   "source": [
    "df['country code'].value_counts()"
   ]
  },
  {
   "cell_type": "code",
   "execution_count": 29,
   "id": "cf85892d",
   "metadata": {},
   "outputs": [
    {
     "name": "stdout",
     "output_type": "stream",
     "text": [
      "40.91697\n",
      "40.49979\n"
     ]
    }
   ],
   "source": [
    "print(df['lat'].max())\n",
    "print(df['lat'].min())"
   ]
  },
  {
   "cell_type": "code",
   "execution_count": 30,
   "id": "40e115a0",
   "metadata": {},
   "outputs": [
    {
     "name": "stdout",
     "output_type": "stream",
     "text": [
      "-73.70522\n",
      "-74.24984\n"
     ]
    }
   ],
   "source": [
    "print(df['long'].max())\n",
    "print(df['long'].min())"
   ]
  },
  {
   "cell_type": "code",
   "execution_count": 31,
   "id": "e3ff0daf",
   "metadata": {},
   "outputs": [
    {
     "data": {
      "text/plain": [
       "id                                102554\n",
       "NAME                              102306\n",
       "host id                           102554\n",
       "host_identity_verified            102273\n",
       "host name                         102149\n",
       "neighbourhood group               102554\n",
       "neighbourhood                     102554\n",
       "instant_bookable                  102452\n",
       "cancellation_policy               102481\n",
       "room type                         102554\n",
       "Construction year                 102345\n",
       "price                             102309\n",
       "service fee                       102281\n",
       "minimum nights                    102147\n",
       "number of reviews                 102371\n",
       "last review                        86665\n",
       "reviews per month                  86677\n",
       "review rate number                102230\n",
       "calculated host listings count    102235\n",
       "availability 365                  102118\n",
       "house_rules                        50436\n",
       "dtype: int64"
      ]
     },
     "execution_count": 31,
     "metadata": {},
     "output_type": "execute_result"
    }
   ],
   "source": [
    "df = df.drop(columns=['country', 'country code', 'lat', 'long'])\n",
    "df.count()"
   ]
  },
  {
   "cell_type": "code",
   "execution_count": 33,
   "id": "0ecfe419",
   "metadata": {},
   "outputs": [
    {
     "data": {
      "text/plain": [
       "review rate number\n",
       "5.0    0.228495\n",
       "4.0    0.228084\n",
       "3.0    0.227497\n",
       "2.0    0.225873\n",
       "1.0    0.090052\n",
       "Name: proportion, dtype: float64"
      ]
     },
     "execution_count": 33,
     "metadata": {},
     "output_type": "execute_result"
    }
   ],
   "source": [
    "df['review rate number'].value_counts(normalize=True)"
   ]
  },
  {
   "cell_type": "code",
   "execution_count": 34,
   "id": "1ff2a971",
   "metadata": {},
   "outputs": [
    {
     "data": {
      "text/plain": [
       "id                                102230\n",
       "NAME                              101990\n",
       "host id                           102230\n",
       "host_identity_verified            101962\n",
       "host name                         101832\n",
       "neighbourhood group               102230\n",
       "neighbourhood                     102230\n",
       "instant_bookable                  102142\n",
       "cancellation_policy               102157\n",
       "room type                         102230\n",
       "Construction year                 102029\n",
       "price                             101985\n",
       "service fee                       101957\n",
       "minimum nights                    101843\n",
       "number of reviews                 102048\n",
       "last review                        86378\n",
       "reviews per month                  86391\n",
       "review rate number                102230\n",
       "calculated host listings count    101979\n",
       "availability 365                  101808\n",
       "house_rules                        50278\n",
       "dtype: int64"
      ]
     },
     "execution_count": 34,
     "metadata": {},
     "output_type": "execute_result"
    }
   ],
   "source": [
    "df = df.dropna(axis='index', subset=['review rate number'])\n",
    "df.count()"
   ]
  },
  {
   "cell_type": "code",
   "execution_count": 35,
   "id": "8e1aa0d3",
   "metadata": {},
   "outputs": [],
   "source": [
    "manhattan_df = df[df['neighbourhood group'] == \"Manhattan\"]\n",
    "brooklyn_df = df[df['neighbourhood group'] == \"Brooklyn\"]\n",
    "queens_df = df[df['neighbourhood group'] == \"Queens\"]\n",
    "bronx_df = df[df['neighbourhood group'] == \"Bronx\"]\n",
    "statenI_df = df[df['neighbourhood group'] == \"Staten Island\"]"
   ]
  },
  {
   "cell_type": "code",
   "execution_count": 39,
   "id": "9636dbba",
   "metadata": {},
   "outputs": [
    {
     "data": {
      "text/plain": [
       "neighbourhood\n",
       "Civic Center           3.467290\n",
       "Financial District     3.423284\n",
       "Theater District       3.401770\n",
       "Kips Bay               3.384951\n",
       "Murray Hill            3.372651\n",
       "NoHo                   3.345324\n",
       "Lower East Side        3.321134\n",
       "East Harlem            3.320617\n",
       "Two Bridges            3.320611\n",
       "Midtown                3.310171\n",
       "Gramercy               3.305355\n",
       "SoHo                   3.288012\n",
       "Flatiron District      3.286624\n",
       "Hell's Kitchen         3.281630\n",
       "East Village           3.271786\n",
       "Washington Heights     3.264225\n",
       "Roosevelt Island       3.264151\n",
       "Chelsea                3.263065\n",
       "Upper East Side        3.252112\n",
       "Morningside Heights    3.250789\n",
       "West Village           3.248817\n",
       "Upper West Side        3.241810\n",
       "Harlem                 3.230911\n",
       "Battery Park City      3.228814\n",
       "Greenwich Village      3.223720\n",
       "Nolita                 3.217803\n",
       "Stuyvesant Town        3.216867\n",
       "Chinatown              3.190294\n",
       "Inwood                 3.183824\n",
       "Little Italy           3.176259\n",
       "Tribeca                3.174419\n",
       "Marble Hill            3.000000\n",
       "Name: review rate number, dtype: float64"
      ]
     },
     "execution_count": 39,
     "metadata": {},
     "output_type": "execute_result"
    }
   ],
   "source": [
    "manhattan_df.groupby('neighbourhood')['review rate number'].mean().sort_values(ascending=False)"
   ]
  },
  {
   "cell_type": "code",
   "execution_count": null,
   "id": "c45a2e5f",
   "metadata": {},
   "outputs": [],
   "source": []
  }
 ],
 "metadata": {
  "kernelspec": {
   "display_name": "test-env",
   "language": "python",
   "name": "python3"
  },
  "language_info": {
   "codemirror_mode": {
    "name": "ipython",
    "version": 3
   },
   "file_extension": ".py",
   "mimetype": "text/x-python",
   "name": "python",
   "nbconvert_exporter": "python",
   "pygments_lexer": "ipython3",
   "version": "3.13.2"
  }
 },
 "nbformat": 4,
 "nbformat_minor": 5
}
